{
 "cells": [
  {
   "cell_type": "code",
   "execution_count": null,
   "id": "0710576f",
   "metadata": {},
   "outputs": [],
   "source": [
    "# Assign values to the variables 'guess_me' and 'number'\n",
    "guess_me = 7\n",
    "number = 1\n",
    "\n",
    "# Start a while loop\n",
    "while number <= guess_me:\n",
    "    if number < guess_me:\n",
    "        print('too low')\n",
    "    elif number == guess_me:\n",
    "        print('found it!')\n",
    "        break # Exit the loop when the number is found\n",
    "    else:\n",
    "        print('oops')\n",
    "        break # Exit the loopif number is greater than guess_me\n",
    "    number += 1 # Increment number at the end of each iteration"
   ]
  }
 ],
 "metadata": {
  "kernelspec": {
   "display_name": "Python 3 (ipykernel)",
   "language": "python",
   "name": "python3"
  },
  "language_info": {
   "codemirror_mode": {
    "name": "ipython",
    "version": 3
   },
   "file_extension": ".py",
   "mimetype": "text/x-python",
   "name": "python",
   "nbconvert_exporter": "python",
   "pygments_lexer": "ipython3",
   "version": "3.11.4"
  }
 },
 "nbformat": 4,
 "nbformat_minor": 5
}
