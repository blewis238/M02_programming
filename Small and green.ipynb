{
 "cells": [
  {
   "cell_type": "code",
   "execution_count": null,
   "id": "8156260d",
   "metadata": {},
   "outputs": [],
   "source": [
    "# Assign True or False to the variables 'small' and 'green'\n",
    "small = False\n",
    "green = True\n",
    "\n",
    "# List of choices\n",
    "choices = ['cherry', 'pea', 'watermelon', 'pumpkin']\n",
    "\n",
    "# Check which choices match the variables 'small' and 'green'\n",
    "for choice in choices:\n",
    "    if small and green:\n",
    "        print(f'(choice) is small and green.')\n",
    "    elif small and not green:\n",
    "        print(f'(choice) is small but not green.')\n",
    "    elif not small and green:\n",
    "        print(f'(choice) is not small but green.')\n",
    "    else:\n",
    "        print(f'(choice) is neither small nor green.')"
   ]
  },
  {
   "cell_type": "markdown",
   "id": "9ea76f67",
   "metadata": {},
   "source": [
    "answer is pea. Pea is small and green"
   ]
  }
 ],
 "metadata": {
  "kernelspec": {
   "display_name": "Python 3 (ipykernel)",
   "language": "python",
   "name": "python3"
  },
  "language_info": {
   "codemirror_mode": {
    "name": "ipython",
    "version": 3
   },
   "file_extension": ".py",
   "mimetype": "text/x-python",
   "name": "python",
   "nbconvert_exporter": "python",
   "pygments_lexer": "ipython3",
   "version": "3.11.4"
  }
 },
 "nbformat": 4,
 "nbformat_minor": 5
}
